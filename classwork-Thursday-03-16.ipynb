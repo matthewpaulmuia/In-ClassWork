{
 "cells": [
  {
   "cell_type": "markdown",
   "metadata": {},
   "source": [
    "### Aditya Kantawala\n",
    "With your first hypothesis, it may have been better to graph the world map as it looked when dinosaurs roamed the earth, not as it looks now.\n",
    "\n",
    "### Justin Shieh\n",
    "What does your second function accomplish in relation to your proposed hypothesis? \n",
    "\n",
    "### Sarah Kim\n",
    "Why was glaciation a mechanism for genetic drift in your genera?\n",
    "\n",
    "### Christina Zhou\n",
    "Why is there so little locational fossil data if bat species are so abundant?\n",
    "\n",
    "### Gayane Hovsepyan\n",
    "What do your graphs tell you about your hypothesis?\n",
    "\n",
    "### Roxana Nojoumi\n",
    "Why do you think horse species were so densely populated in North America and Europe but were scarce across other places on earth? \n",
    "\n",
    "### Cooper Kass\n",
    "Why do you think that most occurrences occured in the crutaceous era?\n",
    "\n",
    "### Jeffrey Lee\n",
    "What does the occurrence data that you graphed tell you about your generas evolutionary history?\n",
    "\n",
    "### Laura Trejo\n",
    "What did your second function accomplish towards informing your hypothesis?\n",
    "\n",
    "### Jin Kim\n",
    "Why did you choose to just focus on the species with the longest occurence data ranges?\n",
    "\n",
    "### Marina Salama\n",
    "Why do you think there was such a large spike in species diversity in recent time?\n",
    "\n",
    "### Erin Solis\n",
    "Why do you think so many of the species had such small occurrence data ranges?\n",
    "\n",
    "### Sean Mathew\n",
    "Why do you think speciation and extinction were so constant through time?\n",
    "\n",
    "### Tiffany Dang\n",
    "Why do you think there was such a steep decline in diversity in recent history?"
   ]
  },
  {
   "cell_type": "code",
   "execution_count": null,
   "metadata": {
    "collapsed": true
   },
   "outputs": [],
   "source": []
  }
 ],
 "metadata": {
  "anaconda-cloud": {},
  "kernelspec": {
   "display_name": "Python [default]",
   "language": "python",
   "name": "python3"
  },
  "language_info": {
   "codemirror_mode": {
    "name": "ipython",
    "version": 3
   },
   "file_extension": ".py",
   "mimetype": "text/x-python",
   "name": "python",
   "nbconvert_exporter": "python",
   "pygments_lexer": "ipython3",
   "version": "3.5.2"
  }
 },
 "nbformat": 4,
 "nbformat_minor": 2
}
