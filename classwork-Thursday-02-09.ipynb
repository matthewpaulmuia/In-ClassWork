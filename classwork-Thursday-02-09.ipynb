{
 "cells": [
  {
   "cell_type": "code",
   "execution_count": 2,
   "metadata": {
    "collapsed": false
   },
   "outputs": [
    {
     "name": "stdout",
     "output_type": "stream",
     "text": [
      "Homo is an ape\n",
      "Pan is an ape\n",
      "Gorilla is an ape\n"
     ]
    }
   ],
   "source": [
    "apes = [\"Homo\", \"Pan\", \"Gorilla\"]\n",
    "for ape in apes:\n",
    "    print(ape + \" is an ape\")"
   ]
  },
  {
   "cell_type": "code",
   "execution_count": 3,
   "metadata": {
    "collapsed": false
   },
   "outputs": [
    {
     "name": "stdout",
     "output_type": "stream",
     "text": [
      "0\n",
      "1\n",
      "2\n",
      "3\n",
      "4\n",
      "5\n",
      "6\n",
      "7\n",
      "8\n",
      "9\n"
     ]
    }
   ],
   "source": [
    "count = 0\n",
    "while count<10:\n",
    "    print(count)\n",
    "    count = count + 1"
   ]
  },
  {
   "cell_type": "markdown",
   "metadata": {},
   "source": [
    "## In-class Assignment\n",
    "Partner: Patrick pattymelt@g.ucla.edu\n",
    "\n",
    "First, we have to download the data.\n",
    "use wget to download the first data set.\n",
    "```\n",
    "wget http://www.nature.com/nature/journal/vaop/ncurrent/source_data/nature21074-f1.csv\n",
    "```\n",
    "and the second data set.\n",
    "\n",
    "```\n",
    "wget http://www.birds.cornell.edu/clementschecklist/wp-content/uploads/2013/03/eBird_Taxonomy_v2016_9Aug2016.csv\n",
    "```\n",
    "\n",
    "now I need to find out how many families are in the file.\n",
    "But the files are formated incorrectly, we need to substitute \\r with \\n to allow unix to read the files.\n",
    "\n",
    "the first file\n",
    "```\n",
    "cat nature21074-f1.csv | tr \"\\r\" \"\\n\" > formatted.nature.csv\n",
    "```\n",
    "and the second\n",
    "```\n",
    "cat eBird_Taxonomy_v2016_9Aug2016.csv | tr \"\\r\" \"\\n\" > formatted.eBird.csv\n",
    "```\n",
    "\n",
    "Now we will count the number of families with\n",
    "```\n",
    "tail -n+4 formatted.nature.csv | cut -d \",\" -f 3 | sort | uniq | wc -l\n",
    "```"
   ]
  },
  {
   "cell_type": "markdown",
   "metadata": {},
   "source": [
    "## Anwers To Questions\n",
    "1. There are 194 unique families in the nature file.\n",
    "2.\n",
    "3.\n",
    "4.\n",
    "5."
   ]
  }
 ],
 "metadata": {
  "anaconda-cloud": {},
  "kernelspec": {
   "display_name": "Python [default]",
   "language": "python",
   "name": "python3"
  },
  "language_info": {
   "codemirror_mode": {
    "name": "ipython",
    "version": 3
   },
   "file_extension": ".py",
   "mimetype": "text/x-python",
   "name": "python",
   "nbconvert_exporter": "python",
   "pygments_lexer": "ipython3",
   "version": "3.5.2"
  }
 },
 "nbformat": 4,
 "nbformat_minor": 2
}
