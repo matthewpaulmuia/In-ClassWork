{
 "cells": [
  {
   "cell_type": "markdown",
   "metadata": {},
   "source": [
    "### Challenge 1\n",
    "Each row in cocoli.txt represents a single record for each tree that was censused. They contain a species code, and a bunch of other stuff.\n",
    "\n",
    "Each row in cocolisp.txt represents geneological information for each species based on each species code.\n",
    "\n",
    "### Challenge 2\n",
    "Multi2 refers to the number of stems the plant has at 1.3m during the second sensus.\n",
    "\n",
    "Dbh2 is the diameter of the tree trunk at breast height during the second census.\n",
    "\n",
    "We can find the genus and species of tag 000011 by taking the species code from cocoli.txt and grep for that species code in cocolisp.txt.\n",
    "\n",
    "The genus and species are Calycophyllum\tcandidissimum. \n",
    "\n",
    "### Challenge 3\n",
    "We can biologically say that individual 000001 grew between 1994 and 1998.\n",
    "\n",
    "We can biologically sat the individual 000029 died.\n",
    "\n",
    "### Challenge 4\n",
    "We could analyze which genus grew the most during the time of the census with the Dbh data. \n",
    "\n",
    "We could test for a correlation between Dbh and Mult.\n",
    "\n",
    "We could compare growth rates between census 1 and 2, and census 2 and 3. \n",
    "\n",
    "We could test for variation in growth rates depending on location on the plot. \n",
    "\n",
    "### Challenge 5\n",
    "The Genus Piper is the most species-rich in the community.\n",
    "\n",
    "There are 98 genera that have only 1 species. There are a total of 126 genera.\n",
    "\n",
    "### Challenege 6\n",
    "I will first have to import the data from cocoli.txt using:\n",
    "'''\n",
    "data = open(\"FileLocation\")\n",
    "'''\n",
    "\n",
    "Then I would initialize a dictionary, which would eventually contain species codes as the keys and Dbh values as the values for each key. This would mean that the dictionary would contain a single key for each species that was censused. \n",
    "\n",
    "I will make a dictionary for each year trees were censused."
   ]
  },
  {
   "cell_type": "code",
   "execution_count": null,
   "metadata": {
    "collapsed": true
   },
   "outputs": [],
   "source": []
  }
 ],
 "metadata": {
  "anaconda-cloud": {},
  "kernelspec": {
   "display_name": "Python [default]",
   "language": "python",
   "name": "python3"
  },
  "language_info": {
   "codemirror_mode": {
    "name": "ipython",
    "version": 3
   },
   "file_extension": ".py",
   "mimetype": "text/x-python",
   "name": "python",
   "nbconvert_exporter": "python",
   "pygments_lexer": "ipython3",
   "version": "3.5.2"
  }
 },
 "nbformat": 4,
 "nbformat_minor": 2
}
