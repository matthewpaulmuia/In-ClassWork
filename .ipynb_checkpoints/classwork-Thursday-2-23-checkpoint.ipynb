{
 "cells": [
  {
   "cell_type": "markdown",
   "metadata": {},
   "source": [
    "## Exercise 1\n",
    "Extract the fishery status with:\n",
    "\n",
    "    curl -s 'http://fishbase.us/summary/SpeciesSummary.php?ID=4249' | grep Fisheries: | cut -d \";\" -f 1 | cut -d \":\" -f 2"
   ]
  },
  {
   "cell_type": "code",
   "execution_count": 16,
   "metadata": {
    "collapsed": false
   },
   "outputs": [],
   "source": [
    "import urllib\n",
    "from bs4 import BeautifulSoup"
   ]
  },
  {
   "cell_type": "code",
   "execution_count": 20,
   "metadata": {
    "collapsed": false
   },
   "outputs": [
    {
     "name": "stderr",
     "output_type": "stream",
     "text": [
      "/home/eeb177-student/miniconda3/lib/python3.5/site-packages/bs4/__init__.py:181: UserWarning: No parser was explicitly specified, so I'm using the best available HTML parser for this system (\"html.parser\"). This usually isn't a problem, but if you run this code on another system, or in a different virtual environment, it may use a different parser and behave differently.\n",
      "\n",
      "The code that caused this warning is on line 184 of the file /home/eeb177-student/miniconda3/lib/python3.5/runpy.py. To get rid of this warning, change code that looks like this:\n",
      "\n",
      " BeautifulSoup([your markup])\n",
      "\n",
      "to this:\n",
      "\n",
      " BeautifulSoup([your markup], \"html.parser\")\n",
      "\n",
      "  markup_type=markup_type))\n"
     ]
    }
   ],
   "source": [
    "family_url = \"http://www.fishbase.org/Nomenclature/NominalSpeciesList.php?family=Abyssocottidae\"\n",
    "\n",
    "import urllib.request\n",
    "from bs4 import BeautifulSoup\n",
    "\n",
    "html = urllib.request.urlopen(family_url)\n",
    "html_doc = html.read()\n",
    "html.close()\n",
    "\n",
    "soup = BeautifulSoup(html_doc)"
   ]
  },
  {
   "cell_type": "code",
   "execution_count": 23,
   "metadata": {
    "collapsed": false
   },
   "outputs": [
    {
     "name": "stdout",
     "output_type": "stream",
     "text": [
      "Limnocottus bergianus\n",
      "Cottinella boulengeri\n",
      "Abyssocottus elochini\n",
      "Abyssocottus gibbosus\n",
      "Abyssocottus gibbosus\n",
      "Limnocottus godlewskii\n",
      "Limnocottus godlewskii\n",
      "Limnocottus griseus\n",
      "Procottus gotoi\n",
      "Procottus gurwicii\n",
      "Asprocottus herzensteini\n",
      "Asprocottus abyssalis\n",
      "Asprocottus intermedius\n",
      "Asprocottus parmiferus\n",
      "Asprocottus platycephalus\n",
      "Procottus jeittelesii\n",
      "Procottus major\n",
      "Procottus gurwicii\n",
      "Procottus jeittelesii\n",
      "Asprocottus korjakovi\n",
      "Asprocottus minor\n",
      "Abyssocottus korotneffi\n",
      "Cyphocottus megalops\n",
      "Cyphocottus megalops\n",
      "Cyphocottus eurystomus\n",
      "Limnocottus pallidus\n",
      "Asprocottus pulcher\n",
      "Neocottus thermalis\n",
      "Neocottus werestschagini\n"
     ]
    }
   ],
   "source": [
    "links = soup.find_all(\"a\")\n",
    "\n",
    "for link in links:\n",
    "    italics = link.find_all(\"i\")\n",
    "    for italic in italics:\n",
    "        print(italic.string)"
   ]
  },
  {
   "cell_type": "code",
   "execution_count": 31,
   "metadata": {
    "collapsed": false
   },
   "outputs": [],
   "source": [
    "import urllib\n",
    "import json\n",
    "\n",
    "api_url = \"https://fishbase.ropensci.org/species/?genus=Platichthys&species=stellatus\"\n",
    "\n",
    "raw_json = urllib.request.urlopen(api_url)\n",
    "decoded_json = raw_json.read().decode('utf-8')\n",
    "parsed_json = json.loads(decoded_json) ## we use the json.load method directly\n",
    "raw_json.close()"
   ]
  },
  {
   "cell_type": "code",
   "execution_count": 33,
   "metadata": {
    "collapsed": false
   },
   "outputs": [
    {
     "data": {
      "text/plain": [
       "dict_keys(['MDredges', 'WeightFemale', 'LandingStatistics', 'DepthRangeShallow', 'SpecCode', 'Subfamily', 'Saltwater', 'MTrawls', 'CommonLength', 'EggPic', 'Electrogenic', 'Complete', 'PicPreferredNameM', 'ImportanceRef', 'MOther', 'Source', 'LTypeMaxM', 'BaitRef', 'AquariumFishII', 'GameRef', 'Pic', 'LengthFemale', 'Fresh', 'MainCatchingMethod', 'II', 'DepthRangeRef', 'MSeines', 'Remarks7', 'AnaCat', 'PicPreferredNameJ', 'DateModified', 'PriceReliability', 'BodyShapeI', 'MLiftnets', 'LongevityWildRef', 'Landings', 'DateChecked', 'TS', 'MaxWeightRef', 'AuthorRef', 'Dangerous', 'TaxIssue', 'UsedforAquaculture', 'Entered', 'LarvaPic', 'PicPreferredName', 'MHooksLines', 'PD50', 'Vulnerability', 'LifeCycle', 'MCastnets', 'AquariumRef', 'UsedasBait', 'PicPreferredNameF', 'FamCode', 'Expert', 'SpeciesRefNo', 'SubGenCode', 'FBname', 'GoogleImage', 'LongevityCapRef', 'LongevityWild', 'Emblematic', 'Remark', 'DepthComRef', 'GameFish', 'AquacultureRef', 'Aquarium', 'LTypeMaxF', 'ElectroRef', 'MaxLengthRef', 'DangerousRef', 'PriceCateg', 'PictureFemale', 'LTypeComF', 'Weight', 'DepthRangeDeep', 'GenCode', 'DepthRangeComDeep', 'LTypeComM', 'DemersPelag', 'CommonLengthRef', 'Modified', 'MSpears', 'Brack', 'Importance', 'Profile', 'Genus', 'MGillnets', 'DepthRangeComShallow', 'Species', 'Length', 'MTraps', 'DateEntered', 'Comments', 'MigratRef', 'LongevityCaptive', 'Author', 'CommonLengthF'])"
      ]
     },
     "execution_count": 33,
     "metadata": {},
     "output_type": "execute_result"
    }
   ],
   "source": [
    "parsed_json[\"data\"][0].keys()"
   ]
  },
  {
   "cell_type": "code",
   "execution_count": null,
   "metadata": {
    "collapsed": true
   },
   "outputs": [],
   "source": []
  }
 ],
 "metadata": {
  "anaconda-cloud": {},
  "kernelspec": {
   "display_name": "Python [default]",
   "language": "python",
   "name": "python3"
  },
  "language_info": {
   "codemirror_mode": {
    "name": "ipython",
    "version": 3
   },
   "file_extension": ".py",
   "mimetype": "text/x-python",
   "name": "python",
   "nbconvert_exporter": "python",
   "pygments_lexer": "ipython3",
   "version": "3.5.2"
  }
 },
 "nbformat": 4,
 "nbformat_minor": 2
}
