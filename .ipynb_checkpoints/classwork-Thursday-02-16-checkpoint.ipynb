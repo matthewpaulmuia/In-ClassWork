{
 "cells": [
  {
   "cell_type": "code",
   "execution_count": 5,
   "metadata": {
    "collapsed": false
   },
   "outputs": [],
   "source": [
    "nature = open(\"nature-data.csv\")\n",
    "natureDict = {}\n",
    "\n",
    "for line in nature:\n",
    "    split = line.split(\",\")\n",
    "    species = split[0]\n",
    "    family = split[1]\n",
    "    natureDict[species] = family\n",
    "    \n",
    "nature.close()\n",
    "\n",
    "#natureDict.keys()"
   ]
  },
  {
   "cell_type": "code",
   "execution_count": 8,
   "metadata": {
    "collapsed": true
   },
   "outputs": [],
   "source": [
    "def makeBirdDict(filename):\n",
    "    #this function opens the data file from Thomas et al and extracts the species and family as a dictionary\n",
    "    birdDict = {}\n",
    "    #open the file\n",
    "    fobj = open(filename)\n",
    "    #read the file\n",
    "    records = fobj.readlines()[:]\n",
    "    #split lines on \",\"\n",
    "    for line in records:\n",
    "        split = line.split(\",\")\n",
    "        species = split[0]\n",
    "        family = split[1]\n",
    "        birdDict[species] = family\n",
    "    #stick species and family into birdDict\n",
    "    \n",
    "    return birdDict"
   ]
  },
  {
   "cell_type": "code",
   "execution_count": 18,
   "metadata": {
    "collapsed": false
   },
   "outputs": [
    {
     "name": "stdout",
     "output_type": "stream",
     "text": [
      "The family of Abeillia_abeillei is Trochilidae\n",
      "\n"
     ]
    }
   ],
   "source": [
    "thomas_birds = makeBirdDict(\"nature-data.csv\")\n",
    "species = list(thomas_birds.keys())\n",
    "species.sort()\n",
    "species[0]\n",
    "print(\"The family of \" + species[0] + \" is \" + thomas_birds[species[0]])"
   ]
  },
  {
   "cell_type": "code",
   "execution_count": 23,
   "metadata": {
    "collapsed": false
   },
   "outputs": [
    {
     "ename": "NameError",
     "evalue": "name 'dog' is not defined",
     "output_type": "error",
     "traceback": [
      "\u001b[0;31m---------------------------------------------------------------------------\u001b[0m",
      "\u001b[0;31mNameError\u001b[0m                                 Traceback (most recent call last)",
      "\u001b[0;32m<ipython-input-23-be2be13e1ec2>\u001b[0m in \u001b[0;36m<module>\u001b[0;34m()\u001b[0m\n\u001b[1;32m      2\u001b[0m     \u001b[0mprint\u001b[0m\u001b[0;34m(\u001b[0m\u001b[0;34m\"I own {} {}s\"\u001b[0m\u001b[0;34m)\u001b[0m\u001b[0;34m.\u001b[0m\u001b[0mformat\u001b[0m\u001b[0;34m(\u001b[0m\u001b[0mnumber\u001b[0m\u001b[0;34m,\u001b[0m \u001b[0mpet\u001b[0m\u001b[0;34m)\u001b[0m\u001b[0;34m\u001b[0m\u001b[0m\n\u001b[1;32m      3\u001b[0m \u001b[0;34m\u001b[0m\u001b[0m\n\u001b[0;32m----> 4\u001b[0;31m \u001b[0moutofOrder\u001b[0m\u001b[0;34m(\u001b[0m\u001b[0;36m3\u001b[0m\u001b[0;34m,\u001b[0m \u001b[0mdog\u001b[0m\u001b[0;34m)\u001b[0m\u001b[0;34m\u001b[0m\u001b[0m\n\u001b[0m",
      "\u001b[0;31mNameError\u001b[0m: name 'dog' is not defined"
     ]
    }
   ],
   "source": [
    "def outofOrder(number, pet):\n",
    "    print(\"I own {} {}s\").format(number, pet)\n",
    "\n",
    "outofOrder(3, dog)"
   ]
  },
  {
   "cell_type": "code",
   "execution_count": null,
   "metadata": {
    "collapsed": true
   },
   "outputs": [],
   "source": []
  }
 ],
 "metadata": {
  "anaconda-cloud": {},
  "kernelspec": {
   "display_name": "Python [default]",
   "language": "python",
   "name": "python3"
  },
  "language_info": {
   "codemirror_mode": {
    "name": "ipython",
    "version": 3
   },
   "file_extension": ".py",
   "mimetype": "text/x-python",
   "name": "python",
   "nbconvert_exporter": "python",
   "pygments_lexer": "ipython3",
   "version": "3.5.2"
  }
 },
 "nbformat": 4,
 "nbformat_minor": 2
}
