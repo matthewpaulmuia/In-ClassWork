{
 "cells": [
  {
   "cell_type": "markdown",
   "metadata": {},
   "source": [
    "### Kelsey Jiang\n",
    "\n",
    "What does your pyrate graph tell you about the extinction and speciation rates of the genus you are studying?\n",
    "\n",
    "\n",
    "### Dominique Castro\n",
    "\n",
    "What did changing the last value in the url of the paleobiology database do to your data?\n",
    "\n",
    "\n",
    "### Linna Sun\n",
    "\n",
    "What does the diversity graph that you contructed tell you about the genus you are studying?\n",
    "\n",
    "\n",
    "### Ashen Parikh\n",
    "\n",
    "Why did you choose to study human interations?\n",
    "\n",
    "\n",
    "### Matthew Muia\n",
    "\n",
    "That's Me!\n",
    "\n",
    "\n",
    "### Antonella Gonzalez\n",
    "\n",
    "Why do you think that one species of allogator was able to survive for so long?\n",
    "\n",
    "### Yee Chau\n",
    "\n",
    "What kind of inferences can you make from the species map you created?\n",
    "\n",
    "\n",
    "### Kristen Lee\n",
    " \n",
    "Why did you choose to study Pilosa?\n",
    "\n",
    "### Madison Downing\n",
    "\n",
    "What does an overlap of the two genuses tell you?\n",
    "\n",
    "### Youstina Salama\n",
    " \n",
    "Why do you think species richness increased so much in recent history?\n",
    "\n",
    "### Jeremy Wadowski\n",
    "\n",
    "What does the counter function accomplish?\n",
    "\n",
    "### Mehdi Nojoumi\n",
    "\n",
    "How does your first function choose a representative species? What criteria, if any, does the function use?\n",
    "\n",
    "### Junghoon Kim\n",
    "\n",
    "What do your results tell you about your hypothesis? \n",
    "\n",
    "### Dustin Wong\n",
    "\n",
    "What does the species occurence graph tell you about your genus?\n",
    "\n",
    "### Hyein Kil\n",
    "\n",
    "How did you match the occurrences and the time periods in your second function?"
   ]
  },
  {
   "cell_type": "code",
   "execution_count": null,
   "metadata": {
    "collapsed": true
   },
   "outputs": [],
   "source": []
  }
 ],
 "metadata": {
  "anaconda-cloud": {},
  "kernelspec": {
   "display_name": "Python [default]",
   "language": "python",
   "name": "python3"
  },
  "language_info": {
   "codemirror_mode": {
    "name": "ipython",
    "version": 3
   },
   "file_extension": ".py",
   "mimetype": "text/x-python",
   "name": "python",
   "nbconvert_exporter": "python",
   "pygments_lexer": "ipython3",
   "version": "3.5.2"
  }
 },
 "nbformat": 4,
 "nbformat_minor": 2
}
